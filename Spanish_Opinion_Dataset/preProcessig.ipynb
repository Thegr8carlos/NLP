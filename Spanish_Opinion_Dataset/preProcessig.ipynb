{
  "cells": [
    {
      "cell_type": "code",
      "source": [
        "import pandas as pd\n",
        "import re\n",
        "import matplotlib.pyplot as plt\n",
        "import nltk\n",
        "from nltk.tokenize import word_tokenize\n",
        "from nltk.corpus import stopwords\n",
        "from nltk.stem import WordNetLemmatizer, PorterStemmer\n",
        "nltk.download('punkt')\n",
        "nltk.download('stopwords')\n",
        "nltk.download('wordnet')"
      ],
      "metadata": {
        "colab": {
          "base_uri": "https://localhost:8080/"
        },
        "id": "LuFC5K-f6cSW",
        "outputId": "f06a7ede-11df-4b16-9e1a-6a7ed6cc622b"
      },
      "execution_count": 6,
      "outputs": [
        {
          "output_type": "stream",
          "name": "stderr",
          "text": [
            "[nltk_data] Downloading package punkt to /root/nltk_data...\n",
            "[nltk_data]   Package punkt is already up-to-date!\n",
            "[nltk_data] Downloading package stopwords to /root/nltk_data...\n",
            "[nltk_data]   Package stopwords is already up-to-date!\n",
            "[nltk_data] Downloading package wordnet to /root/nltk_data...\n",
            "[nltk_data]   Package wordnet is already up-to-date!\n"
          ]
        },
        {
          "output_type": "execute_result",
          "data": {
            "text/plain": [
              "True"
            ]
          },
          "metadata": {},
          "execution_count": 6
        }
      ]
    },
    {
      "cell_type": "markdown",
      "source": [
        "# functions"
      ],
      "metadata": {
        "id": "Z8kd3Lmi6sCE"
      }
    },
    {
      "cell_type": "code",
      "source": [
        "from concurrent.futures import process\n",
        "def read_data(filename, ext):\n",
        "  if ext == 'tsv':\n",
        "    df = pd.read_table(filename)\n",
        "    return df\n",
        "\n",
        "\n",
        "def remove_emojis(text):\n",
        "    emoji_pattern = re.compile(\n",
        "        \"[\"\n",
        "        u\"\\U0001F600-\\U0001F64F\"  # Emoticons\n",
        "        u\"\\U0001F300-\\U0001F5FF\"  # Símbolos y pictogramas\n",
        "        u\"\\U0001F680-\\U0001F6FF\"  # Transporte y símbolos de mapa\n",
        "        u\"\\U0001F1E0-\\U0001F1FF\"  # Banderas (iOS)\n",
        "        u\"\\U00002700-\\U000027BF\"  # Otros símbolos diversos\n",
        "        u\"\\U000024C2-\\U0001F251\"\n",
        "        \"]+\", flags=re.UNICODE)\n",
        "    return emoji_pattern.sub(r'', text)\n",
        "\n",
        "def remove_non_alphabetic(tokens):\n",
        "    return [word for word in tokens if word.isalpha()]\n",
        "\n",
        "\n",
        "def process_text(text,lemmatizer,stemmer,stop_words):\n",
        "    text = text.lower()\n",
        "\n",
        "    text = remove_emojis(text)\n",
        "\n",
        "    tokens = word_tokenize(text)\n",
        "\n",
        "    tokens = remove_non_alphabetic(tokens)\n",
        "\n",
        "    tokens = [word for word in tokens if word not in stop_words]\n",
        "\n",
        "    tokens = [lemmatizer.lemmatize(word) for word in tokens]\n",
        "\n",
        "    tokens = [stemmer.stem(word) for word in tokens]\n",
        "\n",
        "    processed_text = ' '.join(tokens)\n",
        "\n",
        "    return processed_text\n",
        "\n",
        "def procees_data(df):\n",
        "  lemmatizer = WordNetLemmatizer()\n",
        "  stemmer = PorterStemmer()\n",
        "  stop_words = set(stopwords.words('spanish'))\n",
        "  df['processed_text'] = df['tweet'].apply(lambda x: process_text(x,lemmatizer,stemmer,stop_words))\n",
        "  return df\n",
        "\n"
      ],
      "metadata": {
        "id": "ohnjPKjI6gkj"
      },
      "execution_count": 16,
      "outputs": []
    },
    {
      "cell_type": "code",
      "source": [
        "df = read_data(\"train.tsv\", \"tsv\")\n",
        "print(df.head())"
      ],
      "metadata": {
        "colab": {
          "base_uri": "https://localhost:8080/"
        },
        "id": "gMqnDabl68SX",
        "outputId": "1b7b2e0b-53ad-4e67-f3f0-c9e9a8c6c97e"
      },
      "execution_count": 17,
      "outputs": [
        {
          "output_type": "stream",
          "name": "stdout",
          "text": [
            "   id                                              tweet    label \n",
            "0   1  El Atlético resignado a perder HASHTAG 😔  http...  sadness \n",
            "1   2  Leer proporciona una mejor visión del mundo 🤓 ...      joy \n",
            "2   3  Amo a Arya Stark por encima de todas las cosas...      joy \n",
            "3   4  Gracias HASHTAG es increíble que una niña logr...   others \n",
            "4   5  Solo siento que hayamos perdido 24 escaños de ...  sadness \n"
          ]
        }
      ]
    },
    {
      "cell_type": "code",
      "source": [
        "new = procees_data(df)"
      ],
      "metadata": {
        "id": "62k6I0oe7D9s"
      },
      "execution_count": 19,
      "outputs": []
    },
    {
      "cell_type": "code",
      "source": [
        "print(new.columns)"
      ],
      "metadata": {
        "colab": {
          "base_uri": "https://localhost:8080/"
        },
        "id": "TJz_ZpKk9pj5",
        "outputId": "9a617670-a0a2-4e36-8d06-d3de236ae6e0"
      },
      "execution_count": 21,
      "outputs": [
        {
          "output_type": "stream",
          "name": "stdout",
          "text": [
            "Index(['id', 'tweet', 'label ', 'processed_text'], dtype='object')\n"
          ]
        }
      ]
    },
    {
      "cell_type": "code",
      "source": [],
      "metadata": {
        "id": "3EA2GfMY9s0Q"
      },
      "execution_count": null,
      "outputs": []
    }
  ],
  "metadata": {
    "colab": {
      "provenance": []
    },
    "kernelspec": {
      "display_name": "Python 3",
      "language": "python",
      "name": "python3"
    },
    "language_info": {
      "codemirror_mode": {
        "name": "ipython",
        "version": 3
      },
      "file_extension": ".py",
      "mimetype": "text/x-python",
      "name": "python",
      "nbconvert_exporter": "python",
      "pygments_lexer": "ipython3",
      "version": "3.10.0"
    }
  },
  "nbformat": 4,
  "nbformat_minor": 0
}